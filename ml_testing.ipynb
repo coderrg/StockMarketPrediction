{
 "cells": [
  {
   "cell_type": "code",
   "execution_count": 177,
   "metadata": {},
   "outputs": [],
   "source": [
    "import pandas as pd\n",
    "from alpha_vantage.timeseries import TimeSeries\n",
    "import time\n",
    "from datetime import datetime, timedelta\n",
    "from fbprophet import Prophet"
   ]
  },
  {
   "cell_type": "code",
   "execution_count": 178,
   "metadata": {},
   "outputs": [
    {
     "data": {
      "text/plain": [
       "'2020-05-12'"
      ]
     },
     "execution_count": 178,
     "metadata": {},
     "output_type": "execute_result"
    }
   ],
   "source": [
    "# We want to simulate yesterday's stock market data\n",
    "d = datetime.today() - timedelta(days=1)\n",
    "day_to_simulate = d.strftime('%Y-%m-%d')\n",
    "day_to_simulate"
   ]
  },
  {
   "cell_type": "code",
   "execution_count": 179,
   "metadata": {},
   "outputs": [],
   "source": [
    "api_key = 'B0N8Q38MJAVBSLOY'"
   ]
  },
  {
   "cell_type": "code",
   "execution_count": 180,
   "metadata": {},
   "outputs": [],
   "source": [
    "ts = TimeSeries(key=api_key, output_format='pandas')\n",
    "data, meta_data = ts.get_intraday(symbol='FB', interval = '1min', outputsize = 'full')"
   ]
  },
  {
   "cell_type": "code",
   "execution_count": 181,
   "metadata": {},
   "outputs": [],
   "source": [
    "data = data.reset_index()"
   ]
  },
  {
   "cell_type": "code",
   "execution_count": 182,
   "metadata": {},
   "outputs": [],
   "source": [
    "data_prophet = data[[\"date\",\"1. open\"]]\n",
    "data_prophet.columns = [\"ds\", \"y\"]"
   ]
  },
  {
   "cell_type": "code",
   "execution_count": 183,
   "metadata": {},
   "outputs": [],
   "source": [
    "# Use to reverse dataframe\n",
    "data_prophet = data_prophet.iloc[::-1]\n",
    "data_prophet = data_prophet.reset_index(drop = True)"
   ]
  },
  {
   "cell_type": "code",
   "execution_count": 184,
   "metadata": {},
   "outputs": [],
   "source": [
    "data_prophet['string_ds'] = data_prophet['ds'].astype(str)"
   ]
  },
  {
   "cell_type": "code",
   "execution_count": 185,
   "metadata": {},
   "outputs": [
    {
     "data": {
      "text/html": [
       "<div>\n",
       "<style scoped>\n",
       "    .dataframe tbody tr th:only-of-type {\n",
       "        vertical-align: middle;\n",
       "    }\n",
       "\n",
       "    .dataframe tbody tr th {\n",
       "        vertical-align: top;\n",
       "    }\n",
       "\n",
       "    .dataframe thead th {\n",
       "        text-align: right;\n",
       "    }\n",
       "</style>\n",
       "<table border=\"1\" class=\"dataframe\">\n",
       "  <thead>\n",
       "    <tr style=\"text-align: right;\">\n",
       "      <th></th>\n",
       "      <th>ds</th>\n",
       "      <th>y</th>\n",
       "      <th>string_ds</th>\n",
       "    </tr>\n",
       "  </thead>\n",
       "  <tbody>\n",
       "    <tr>\n",
       "      <th>0</th>\n",
       "      <td>2020-05-07 09:31:00</td>\n",
       "      <td>211.1169</td>\n",
       "      <td>2020-05-07 09:31:00</td>\n",
       "    </tr>\n",
       "    <tr>\n",
       "      <th>1</th>\n",
       "      <td>2020-05-07 09:34:00</td>\n",
       "      <td>211.1300</td>\n",
       "      <td>2020-05-07 09:34:00</td>\n",
       "    </tr>\n",
       "    <tr>\n",
       "      <th>2</th>\n",
       "      <td>2020-05-07 09:35:00</td>\n",
       "      <td>211.3000</td>\n",
       "      <td>2020-05-07 09:35:00</td>\n",
       "    </tr>\n",
       "    <tr>\n",
       "      <th>3</th>\n",
       "      <td>2020-05-07 09:36:00</td>\n",
       "      <td>210.6300</td>\n",
       "      <td>2020-05-07 09:36:00</td>\n",
       "    </tr>\n",
       "    <tr>\n",
       "      <th>4</th>\n",
       "      <td>2020-05-07 09:37:00</td>\n",
       "      <td>210.5200</td>\n",
       "      <td>2020-05-07 09:37:00</td>\n",
       "    </tr>\n",
       "    <tr>\n",
       "      <th>...</th>\n",
       "      <td>...</td>\n",
       "      <td>...</td>\n",
       "      <td>...</td>\n",
       "    </tr>\n",
       "    <tr>\n",
       "      <th>1933</th>\n",
       "      <td>2020-05-13 15:56:00</td>\n",
       "      <td>204.9900</td>\n",
       "      <td>2020-05-13 15:56:00</td>\n",
       "    </tr>\n",
       "    <tr>\n",
       "      <th>1934</th>\n",
       "      <td>2020-05-13 15:57:00</td>\n",
       "      <td>204.7100</td>\n",
       "      <td>2020-05-13 15:57:00</td>\n",
       "    </tr>\n",
       "    <tr>\n",
       "      <th>1935</th>\n",
       "      <td>2020-05-13 15:58:00</td>\n",
       "      <td>204.6800</td>\n",
       "      <td>2020-05-13 15:58:00</td>\n",
       "    </tr>\n",
       "    <tr>\n",
       "      <th>1936</th>\n",
       "      <td>2020-05-13 15:59:00</td>\n",
       "      <td>204.7400</td>\n",
       "      <td>2020-05-13 15:59:00</td>\n",
       "    </tr>\n",
       "    <tr>\n",
       "      <th>1937</th>\n",
       "      <td>2020-05-13 16:00:00</td>\n",
       "      <td>205.0100</td>\n",
       "      <td>2020-05-13 16:00:00</td>\n",
       "    </tr>\n",
       "  </tbody>\n",
       "</table>\n",
       "<p>1938 rows × 3 columns</p>\n",
       "</div>"
      ],
      "text/plain": [
       "                      ds         y            string_ds\n",
       "0    2020-05-07 09:31:00  211.1169  2020-05-07 09:31:00\n",
       "1    2020-05-07 09:34:00  211.1300  2020-05-07 09:34:00\n",
       "2    2020-05-07 09:35:00  211.3000  2020-05-07 09:35:00\n",
       "3    2020-05-07 09:36:00  210.6300  2020-05-07 09:36:00\n",
       "4    2020-05-07 09:37:00  210.5200  2020-05-07 09:37:00\n",
       "...                  ...       ...                  ...\n",
       "1933 2020-05-13 15:56:00  204.9900  2020-05-13 15:56:00\n",
       "1934 2020-05-13 15:57:00  204.7100  2020-05-13 15:57:00\n",
       "1935 2020-05-13 15:58:00  204.6800  2020-05-13 15:58:00\n",
       "1936 2020-05-13 15:59:00  204.7400  2020-05-13 15:59:00\n",
       "1937 2020-05-13 16:00:00  205.0100  2020-05-13 16:00:00\n",
       "\n",
       "[1938 rows x 3 columns]"
      ]
     },
     "execution_count": 185,
     "metadata": {},
     "output_type": "execute_result"
    }
   ],
   "source": [
    "data_prophet"
   ]
  },
  {
   "cell_type": "code",
   "execution_count": 186,
   "metadata": {},
   "outputs": [],
   "source": [
    "# Only consider one day of data\n",
    "data_prophet = data_prophet[data_prophet.string_ds.str.startswith((day_to_simulate))]"
   ]
  },
  {
   "cell_type": "code",
   "execution_count": 187,
   "metadata": {},
   "outputs": [],
   "source": [
    "data_prophet = data_prophet.drop(['string_ds'], axis = 1)"
   ]
  },
  {
   "cell_type": "code",
   "execution_count": 188,
   "metadata": {},
   "outputs": [],
   "source": [
    "data_prophet = data_prophet.reset_index(drop=True)"
   ]
  },
  {
   "cell_type": "code",
   "execution_count": 195,
   "metadata": {},
   "outputs": [],
   "source": [
    "current_time = data_prophet['ds'].iloc[388]\n",
    "current_price = data_prophet['y'].iloc[388]"
   ]
  },
  {
   "cell_type": "code",
   "execution_count": 189,
   "metadata": {},
   "outputs": [
    {
     "name": "stderr",
     "output_type": "stream",
     "text": [
      "INFO:fbprophet:Disabling yearly seasonality. Run prophet with yearly_seasonality=True to override this.\n",
      "INFO:fbprophet:Disabling weekly seasonality. Run prophet with weekly_seasonality=True to override this.\n",
      "INFO:fbprophet:Disabling daily seasonality. Run prophet with daily_seasonality=True to override this.\n",
      "/Users/user/opt/anaconda3/lib/python3.7/site-packages/pystan/misc.py:399: FutureWarning:\n",
      "\n",
      "Conversion of the second argument of issubdtype from `float` to `np.floating` is deprecated. In future, it will be treated as `np.float64 == np.dtype(float).type`.\n",
      "\n"
     ]
    }
   ],
   "source": [
    "m = Prophet()\n",
    "m.fit(data_prophet)\n",
    "future = m.make_future_dataframe(periods=1, freq = 'min', include_history = False)"
   ]
  },
  {
   "cell_type": "code",
   "execution_count": 190,
   "metadata": {},
   "outputs": [
    {
     "data": {
      "text/plain": [
       "210.85183696533963"
      ]
     },
     "execution_count": 190,
     "metadata": {},
     "output_type": "execute_result"
    }
   ],
   "source": [
    "# predict price the next minute\n",
    "forecast = m.predict(future)\n",
    "float(forecast['yhat'])"
   ]
  },
  {
   "cell_type": "code",
   "execution_count": 191,
   "metadata": {},
   "outputs": [
    {
     "data": {
      "image/png": "[encoded data removed]",
      "text/plain": [
       "<Figure size 720x432 with 1 Axes>"
      ]
     },
     "metadata": {},
     "output_type": "display_data"
    }
   ],
   "source": [
    "fig1 = m.plot(forecast)"
   ]
  },
  {
   "cell_type": "code",
   "execution_count": null,
   "metadata": {},
   "outputs": [],
   "source": []
  }
 ],
 "metadata": {
  "kernelspec": {
   "display_name": "Python 3",
   "language": "python",
   "name": "python3"
  },
  "language_info": {
   "codemirror_mode": {
    "name": "ipython",
    "version": 3
   },
   "file_extension": ".py",
   "mimetype": "text/x-python",
   "name": "python",
   "nbconvert_exporter": "python",
   "pygments_lexer": "ipython3",
   "version": "3.7.4"
  }
 },
 "nbformat": 4,
 "nbformat_minor": 2
}
