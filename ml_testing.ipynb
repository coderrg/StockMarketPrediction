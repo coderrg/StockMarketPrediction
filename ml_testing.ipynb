{
 "cells": [
  {
   "cell_type": "code",
   "execution_count": 125,
   "metadata": {},
   "outputs": [],
   "source": [
    "import pandas as pd\n",
    "from alpha_vantage.timeseries import TimeSeries\n",
    "import time\n",
    "from datetime import datetime, timedelta\n",
    "from fbprophet import Prophet"
   ]
  },
  {
   "cell_type": "code",
   "execution_count": 135,
   "metadata": {},
   "outputs": [
    {
     "data": {
      "text/plain": [
       "'2020-05-12'"
      ]
     },
     "execution_count": 135,
     "metadata": {},
     "output_type": "execute_result"
    }
   ],
   "source": [
    "# We want to simulate yesterday's stock market data\n",
    "d = datetime.today() - timedelta(days=1)\n",
    "day_to_simulate = d.strftime('%Y-%m-%d')\n",
    "day_to_simulate"
   ]
  },
  {
   "cell_type": "code",
   "execution_count": 136,
   "metadata": {},
   "outputs": [],
   "source": [
    "api_key = 'B0N8Q38MJAVBSLOY'"
   ]
  },
  {
   "cell_type": "code",
   "execution_count": 137,
   "metadata": {},
   "outputs": [],
   "source": [
    "ts = TimeSeries(key=api_key, output_format='pandas')\n",
    "data, meta_data = ts.get_intraday(symbol='MSFT', interval = '1min', outputsize = 'full')"
   ]
  },
  {
   "cell_type": "code",
   "execution_count": 138,
   "metadata": {},
   "outputs": [],
   "source": [
    "data = data.reset_index()"
   ]
  },
  {
   "cell_type": "code",
   "execution_count": 139,
   "metadata": {},
   "outputs": [],
   "source": [
    "data_prophet = data[[\"date\",\"1. open\"]]\n",
    "data_prophet.columns = [\"ds\", \"y\"]"
   ]
  },
  {
   "cell_type": "code",
   "execution_count": 140,
   "metadata": {},
   "outputs": [],
   "source": [
    "# Use to reverse dataframe\n",
    "data_prophet = data_prophet.iloc[::-1]\n",
    "data_prophet = data_prophet.reset_index()\n",
    "data_prophet = data_prophet.drop(['index'], axis = 1)"
   ]
  },
  {
   "cell_type": "code",
   "execution_count": 141,
   "metadata": {},
   "outputs": [],
   "source": [
    "data_prophet['string_ds'] = data_prophet['ds'].astype(str)"
   ]
  },
  {
   "cell_type": "code",
   "execution_count": 142,
   "metadata": {},
   "outputs": [
    {
     "data": {
      "text/html": [
       "<div>\n",
       "<style scoped>\n",
       "    .dataframe tbody tr th:only-of-type {\n",
       "        vertical-align: middle;\n",
       "    }\n",
       "\n",
       "    .dataframe tbody tr th {\n",
       "        vertical-align: top;\n",
       "    }\n",
       "\n",
       "    .dataframe thead th {\n",
       "        text-align: right;\n",
       "    }\n",
       "</style>\n",
       "<table border=\"1\" class=\"dataframe\">\n",
       "  <thead>\n",
       "    <tr style=\"text-align: right;\">\n",
       "      <th></th>\n",
       "      <th>ds</th>\n",
       "      <th>y</th>\n",
       "      <th>string_ds</th>\n",
       "    </tr>\n",
       "  </thead>\n",
       "  <tbody>\n",
       "    <tr>\n",
       "      <th>0</th>\n",
       "      <td>2020-05-07 09:31:00</td>\n",
       "      <td>184.210</td>\n",
       "      <td>2020-05-07 09:31:00</td>\n",
       "    </tr>\n",
       "    <tr>\n",
       "      <th>1</th>\n",
       "      <td>2020-05-07 09:34:00</td>\n",
       "      <td>184.435</td>\n",
       "      <td>2020-05-07 09:34:00</td>\n",
       "    </tr>\n",
       "    <tr>\n",
       "      <th>2</th>\n",
       "      <td>2020-05-07 09:35:00</td>\n",
       "      <td>184.520</td>\n",
       "      <td>2020-05-07 09:35:00</td>\n",
       "    </tr>\n",
       "    <tr>\n",
       "      <th>3</th>\n",
       "      <td>2020-05-07 09:36:00</td>\n",
       "      <td>183.980</td>\n",
       "      <td>2020-05-07 09:36:00</td>\n",
       "    </tr>\n",
       "    <tr>\n",
       "      <th>4</th>\n",
       "      <td>2020-05-07 09:37:00</td>\n",
       "      <td>183.520</td>\n",
       "      <td>2020-05-07 09:37:00</td>\n",
       "    </tr>\n",
       "    <tr>\n",
       "      <th>...</th>\n",
       "      <td>...</td>\n",
       "      <td>...</td>\n",
       "      <td>...</td>\n",
       "    </tr>\n",
       "    <tr>\n",
       "      <th>1550</th>\n",
       "      <td>2020-05-12 15:56:00</td>\n",
       "      <td>182.400</td>\n",
       "      <td>2020-05-12 15:56:00</td>\n",
       "    </tr>\n",
       "    <tr>\n",
       "      <th>1551</th>\n",
       "      <td>2020-05-12 15:57:00</td>\n",
       "      <td>182.940</td>\n",
       "      <td>2020-05-12 15:57:00</td>\n",
       "    </tr>\n",
       "    <tr>\n",
       "      <th>1552</th>\n",
       "      <td>2020-05-12 15:58:00</td>\n",
       "      <td>182.890</td>\n",
       "      <td>2020-05-12 15:58:00</td>\n",
       "    </tr>\n",
       "    <tr>\n",
       "      <th>1553</th>\n",
       "      <td>2020-05-12 15:59:00</td>\n",
       "      <td>182.775</td>\n",
       "      <td>2020-05-12 15:59:00</td>\n",
       "    </tr>\n",
       "    <tr>\n",
       "      <th>1554</th>\n",
       "      <td>2020-05-12 16:00:00</td>\n",
       "      <td>182.780</td>\n",
       "      <td>2020-05-12 16:00:00</td>\n",
       "    </tr>\n",
       "  </tbody>\n",
       "</table>\n",
       "<p>1555 rows × 3 columns</p>\n",
       "</div>"
      ],
      "text/plain": [
       "                      ds        y            string_ds\n",
       "0    2020-05-07 09:31:00  184.210  2020-05-07 09:31:00\n",
       "1    2020-05-07 09:34:00  184.435  2020-05-07 09:34:00\n",
       "2    2020-05-07 09:35:00  184.520  2020-05-07 09:35:00\n",
       "3    2020-05-07 09:36:00  183.980  2020-05-07 09:36:00\n",
       "4    2020-05-07 09:37:00  183.520  2020-05-07 09:37:00\n",
       "...                  ...      ...                  ...\n",
       "1550 2020-05-12 15:56:00  182.400  2020-05-12 15:56:00\n",
       "1551 2020-05-12 15:57:00  182.940  2020-05-12 15:57:00\n",
       "1552 2020-05-12 15:58:00  182.890  2020-05-12 15:58:00\n",
       "1553 2020-05-12 15:59:00  182.775  2020-05-12 15:59:00\n",
       "1554 2020-05-12 16:00:00  182.780  2020-05-12 16:00:00\n",
       "\n",
       "[1555 rows x 3 columns]"
      ]
     },
     "execution_count": 142,
     "metadata": {},
     "output_type": "execute_result"
    }
   ],
   "source": [
    "data_prophet"
   ]
  },
  {
   "cell_type": "code",
   "execution_count": 143,
   "metadata": {},
   "outputs": [],
   "source": [
    "# Only consider one day of data\n",
    "data_prophet = data_prophet[data_prophet.string_ds.str.startswith((day_to_simulate))]"
   ]
  },
  {
   "cell_type": "code",
   "execution_count": 144,
   "metadata": {},
   "outputs": [],
   "source": [
    "data_prophet = data_prophet.drop(['string_ds'], axis = 1)"
   ]
  },
  {
   "cell_type": "code",
   "execution_count": 146,
   "metadata": {},
   "outputs": [
    {
     "data": {
      "text/html": [
       "<div>\n",
       "<style scoped>\n",
       "    .dataframe tbody tr th:only-of-type {\n",
       "        vertical-align: middle;\n",
       "    }\n",
       "\n",
       "    .dataframe tbody tr th {\n",
       "        vertical-align: top;\n",
       "    }\n",
       "\n",
       "    .dataframe thead th {\n",
       "        text-align: right;\n",
       "    }\n",
       "</style>\n",
       "<table border=\"1\" class=\"dataframe\">\n",
       "  <thead>\n",
       "    <tr style=\"text-align: right;\">\n",
       "      <th></th>\n",
       "      <th>ds</th>\n",
       "      <th>y</th>\n",
       "    </tr>\n",
       "  </thead>\n",
       "  <tbody>\n",
       "    <tr>\n",
       "      <th>1166</th>\n",
       "      <td>2020-05-12 09:31:00</td>\n",
       "      <td>186.590</td>\n",
       "    </tr>\n",
       "    <tr>\n",
       "      <th>1167</th>\n",
       "      <td>2020-05-12 09:32:00</td>\n",
       "      <td>186.770</td>\n",
       "    </tr>\n",
       "    <tr>\n",
       "      <th>1168</th>\n",
       "      <td>2020-05-12 09:33:00</td>\n",
       "      <td>186.915</td>\n",
       "    </tr>\n",
       "    <tr>\n",
       "      <th>1169</th>\n",
       "      <td>2020-05-12 09:34:00</td>\n",
       "      <td>186.940</td>\n",
       "    </tr>\n",
       "    <tr>\n",
       "      <th>1170</th>\n",
       "      <td>2020-05-12 09:35:00</td>\n",
       "      <td>186.450</td>\n",
       "    </tr>\n",
       "    <tr>\n",
       "      <th>...</th>\n",
       "      <td>...</td>\n",
       "      <td>...</td>\n",
       "    </tr>\n",
       "    <tr>\n",
       "      <th>1550</th>\n",
       "      <td>2020-05-12 15:56:00</td>\n",
       "      <td>182.400</td>\n",
       "    </tr>\n",
       "    <tr>\n",
       "      <th>1551</th>\n",
       "      <td>2020-05-12 15:57:00</td>\n",
       "      <td>182.940</td>\n",
       "    </tr>\n",
       "    <tr>\n",
       "      <th>1552</th>\n",
       "      <td>2020-05-12 15:58:00</td>\n",
       "      <td>182.890</td>\n",
       "    </tr>\n",
       "    <tr>\n",
       "      <th>1553</th>\n",
       "      <td>2020-05-12 15:59:00</td>\n",
       "      <td>182.775</td>\n",
       "    </tr>\n",
       "    <tr>\n",
       "      <th>1554</th>\n",
       "      <td>2020-05-12 16:00:00</td>\n",
       "      <td>182.780</td>\n",
       "    </tr>\n",
       "  </tbody>\n",
       "</table>\n",
       "<p>389 rows × 2 columns</p>\n",
       "</div>"
      ],
      "text/plain": [
       "                      ds        y\n",
       "1166 2020-05-12 09:31:00  186.590\n",
       "1167 2020-05-12 09:32:00  186.770\n",
       "1168 2020-05-12 09:33:00  186.915\n",
       "1169 2020-05-12 09:34:00  186.940\n",
       "1170 2020-05-12 09:35:00  186.450\n",
       "...                  ...      ...\n",
       "1550 2020-05-12 15:56:00  182.400\n",
       "1551 2020-05-12 15:57:00  182.940\n",
       "1552 2020-05-12 15:58:00  182.890\n",
       "1553 2020-05-12 15:59:00  182.775\n",
       "1554 2020-05-12 16:00:00  182.780\n",
       "\n",
       "[389 rows x 2 columns]"
      ]
     },
     "execution_count": 146,
     "metadata": {},
     "output_type": "execute_result"
    }
   ],
   "source": [
    "data_prophet"
   ]
  },
  {
   "cell_type": "code",
   "execution_count": 147,
   "metadata": {},
   "outputs": [
    {
     "name": "stderr",
     "output_type": "stream",
     "text": [
      "INFO:fbprophet:Disabling yearly seasonality. Run prophet with yearly_seasonality=True to override this.\n",
      "INFO:fbprophet:Disabling weekly seasonality. Run prophet with weekly_seasonality=True to override this.\n",
      "INFO:fbprophet:Disabling daily seasonality. Run prophet with daily_seasonality=True to override this.\n",
      "/Users/user/opt/anaconda3/lib/python3.7/site-packages/pystan/misc.py:399: FutureWarning:\n",
      "\n",
      "Conversion of the second argument of issubdtype from `float` to `np.floating` is deprecated. In future, it will be treated as `np.float64 == np.dtype(float).type`.\n",
      "\n"
     ]
    }
   ],
   "source": [
    "m = Prophet()\n",
    "m.fit(data_prophet)\n",
    "future = m.make_future_dataframe(periods=1, freq = 'min', include_history = False)"
   ]
  },
  {
   "cell_type": "code",
   "execution_count": 151,
   "metadata": {},
   "outputs": [
    {
     "data": {
      "text/plain": [
       "183.278527411945"
      ]
     },
     "execution_count": 151,
     "metadata": {},
     "output_type": "execute_result"
    }
   ],
   "source": [
    "# predict price the next minute\n",
    "forecast = m.predict(future)\n",
    "float(forecast['trend'])"
   ]
  },
  {
   "cell_type": "code",
   "execution_count": 64,
   "metadata": {},
   "outputs": [
    {
     "data": {
      "image/png": "[encoded data removed]",
      "text/plain": [
       "<Figure size 720x432 with 1 Axes>"
      ]
     },
     "execution_count": 64,
     "metadata": {},
     "output_type": "execute_result"
    },
    {
     "data": {
      "image/png": "[encoded data removed]",
      "text/plain": [
       "<Figure size 720x432 with 1 Axes>"
      ]
     },
     "metadata": {},
     "output_type": "display_data"
    }
   ],
   "source": [
    "fig1 = m.plot(forecast)\n",
    "fig1"
   ]
  },
  {
   "cell_type": "code",
   "execution_count": null,
   "metadata": {},
   "outputs": [],
   "source": []
  }
 ],
 "metadata": {
  "kernelspec": {
   "display_name": "Python 3",
   "language": "python",
   "name": "python3"
  },
  "language_info": {
   "codemirror_mode": {
    "name": "ipython",
    "version": 3
   },
   "file_extension": ".py",
   "mimetype": "text/x-python",
   "name": "python",
   "nbconvert_exporter": "python",
   "pygments_lexer": "ipython3",
   "version": "3.7.4"
  }
 },
 "nbformat": 4,
 "nbformat_minor": 2
}
